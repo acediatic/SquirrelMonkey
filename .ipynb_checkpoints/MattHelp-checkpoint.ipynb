{
 "cells": [
  {
   "cell_type": "markdown",
   "metadata": {
    "pycharm": {
     "name": "#%% md\n"
    }
   },
   "source": [
    "### Imports"
   ]
  },
  {
   "cell_type": "code",
   "execution_count": 1,
   "metadata": {
    "pycharm": {
     "name": "#%%\n"
    }
   },
   "outputs": [],
   "source": [
    "import tensorflow as tf\n",
    "\n",
    "from keras.applications import inception_resnet_v2\n",
    "from keras.optimizers import adam_v2\n",
    "from keras.losses import BinaryCrossentropy\n",
    "from keras.layers import Dense, Flatten\n",
    "\n",
    "import matplotlib.pyplot as plt"
   ]
  },
  {
   "cell_type": "markdown",
   "metadata": {},
   "source": [
    "### Constants"
   ]
  },
  {
   "cell_type": "code",
   "execution_count": 2,
   "metadata": {
    "pycharm": {
     "name": "#%%\n"
    }
   },
   "outputs": [],
   "source": [
    "# Get train and test data from folder.\n",
    "TRAIN_DIRECTORY = \"E:/MattDataHelp/chest_xray/train\"\n",
    "VALIDATION_DIRECTORY = \"E:/MattDataHelp/chest_xray/val\"\n",
    "TEST_DIRECTORY = \"E:/MattDataHelp/chest_xray/test\"\n",
    "\n",
    "IMG_HEIGHT = 224\n",
    "IMG_WIDTH = 224\n",
    "BATCH_SIZE = 32  # This is keras default\n",
    "IMAGE_DIMENSIONS = (IMG_HEIGHT, IMG_WIDTH)\n",
    "SEED = 123\n",
    "\n",
    "NUM_CLASSES = 2\n",
    "\n",
    "NUM_EPOCHS = 20\n",
    "LEARNING_RATE = 0.001"
   ]
  },
  {
   "cell_type": "markdown",
   "metadata": {},
   "source": [
    "### Load Data"
   ]
  },
  {
   "cell_type": "code",
   "execution_count": 3,
   "metadata": {
    "pycharm": {
     "name": "#%%\n"
    }
   },
   "outputs": [
    {
     "name": "stdout",
     "output_type": "stream",
     "text": [
      "Training:\n",
      "Found 5216 files belonging to 2 classes.\n",
      "\n",
      "Validation:\n",
      "Found 16 files belonging to 2 classes.\n",
      "Test:\n",
      "Found 624 files belonging to 2 classes.\n"
     ]
    }
   ],
   "source": [
    "print(\"Training:\")\n",
    "train_ds = tf.keras.preprocessing.image_dataset_from_directory(\n",
    "    TRAIN_DIRECTORY,\n",
    "    image_size=IMAGE_DIMENSIONS,\n",
    "    batch_size=BATCH_SIZE,\n",
    "    color_mode = \"rgb\",\n",
    "    shuffle = True,\n",
    "    seed = SEED,\n",
    ")\n",
    "print()\n",
    "\n",
    "print(\"Validation:\")\n",
    "val_ds = tf.keras.preprocessing.image_dataset_from_directory(\n",
    "        VALIDATION_DIRECTORY,\n",
    "        image_size=IMAGE_DIMENSIONS,\n",
    "        batch_size=BATCH_SIZE,\n",
    "        color_mode = \"rgb\",\n",
    "        shuffle = True,\n",
    "        seed = SEED,\n",
    "    )\n",
    "\n",
    "print(\"Test:\")\n",
    "test_ds = tf.keras.preprocessing.image_dataset_from_directory(\n",
    "    TEST_DIRECTORY,\n",
    "    image_size=IMAGE_DIMENSIONS,\n",
    "    batch_size=BATCH_SIZE,\n",
    "    color_mode = \"rgb\",\n",
    "    shuffle = True,\n",
    "    seed = SEED,\n",
    ")"
   ]
  },
  {
   "cell_type": "markdown",
   "metadata": {
    "pycharm": {
     "name": "#%% md\n"
    }
   },
   "source": [
    "#### Configure the dataset for performance"
   ]
  },
  {
   "cell_type": "code",
   "execution_count": 4,
   "metadata": {
    "pycharm": {
     "name": "#%%\n"
    }
   },
   "outputs": [],
   "source": [
    "# AUTOTUNE = tf.data.AUTOTUNE\n",
    "#\n",
    "# train_ds = train_ds.cache().prefetch(buffer_size=AUTOTUNE)\n",
    "# val_ds = val_ds.cache().prefetch(buffer_size=AUTOTUNE)"
   ]
  },
  {
   "cell_type": "markdown",
   "metadata": {},
   "source": [
    "### Pre-Process Data"
   ]
  },
  {
   "cell_type": "code",
   "execution_count": 5,
   "metadata": {
    "pycharm": {
     "name": "#%%\n"
    }
   },
   "outputs": [],
   "source": [
    "# for image_batch, labels_batch in train_ds:\n",
    "#     # in-place pre-processing of images\n",
    "# #     updated_image_batch = vgg16.preprocess_input(image_batch)\n",
    "# #     train_ds\n",
    "#\n",
    "# train_ds = tf.keras.applications.mobilenet.preprocess_input(train_ds)\n",
    "# val_ds = tf.keras.applications.mobilenet.preprocess_input(val_ds)\n",
    "# test_ds = tf.keras.applications.mobilenet.preprocess_input(test_ds)"
   ]
  },
  {
   "cell_type": "code",
   "execution_count": 6,
   "metadata": {
    "pycharm": {
     "name": "#%%\n"
    }
   },
   "outputs": [],
   "source": [
    "# # See here for implementation https://keras.io/api/applications/vgg/#vgg16-function\n",
    "# model = inception_resnet_v2.InceptionResNetV2(\n",
    "#     include_top=False,\n",
    "#     weights=None,\n",
    "#     input_shape=(IMG_HEIGHT, IMG_WIDTH, 3),\n",
    "#     pooling='avg',  # Global average pooling applied.\n",
    "#     classes=NUM_CLASSES,\n",
    "# )\n",
    "#\n",
    "# # Add dense layers to perform prediction\n",
    "# model.layers.append(Flatten())\n",
    "# model.layers.append(Dense(units=4096, activation=\"relu\"))\n",
    "# model.layers.append(Dense(units=4096, activation=\"relu\"))\n",
    "# model.layers.append(Dense(units=NUM_CLASSES, activation=\"softmax\"))"
   ]
  },
  {
   "cell_type": "code",
   "execution_count": 7,
   "metadata": {
    "pycharm": {
     "name": "#%%\n"
    }
   },
   "outputs": [],
   "source": [
    "model = tf.keras.models.Sequential([\n",
    "    # Note the input shape is the desired size of the image 200x200 with 3 bytes color\n",
    "    # This is the first convolution\n",
    "    tf.keras.layers.Conv2D(16, (3,3), activation='relu', input_shape=(IMG_WIDTH, IMG_HEIGHT, 3)),\n",
    "    tf.keras.layers.MaxPooling2D(2, 2),\n",
    "    # The second convolution\n",
    "    tf.keras.layers.Conv2D(32, (3,3), activation='relu'),\n",
    "    tf.keras.layers.MaxPooling2D(2,2),\n",
    "    # The third convolution\n",
    "    tf.keras.layers.Conv2D(64, (3,3), activation='relu'),\n",
    "    tf.keras.layers.MaxPooling2D(2,2),\n",
    "    # The fourth convolution\n",
    "    tf.keras.layers.Conv2D(64, (3,3), activation='relu'),\n",
    "    tf.keras.layers.MaxPooling2D(2,2),\n",
    "    # # The fifth convolution\n",
    "    tf.keras.layers.Conv2D(64, (3,3), activation='relu'),\n",
    "    tf.keras.layers.MaxPooling2D(2,2),\n",
    "    # Flatten the results to feed into a DNN\n",
    "    tf.keras.layers.Flatten(),\n",
    "    # 512 neuron hidden layer\n",
    "    tf.keras.layers.Dense(512, activation='relu'),\n",
    "    # Only 1 output neuron. It will contain a value from 0-1 where 0 for 1 class ('dandelions') and 1 for the other ('grass')\n",
    "    tf.keras.layers.Dense(1, activation='sigmoid')\n",
    "    ])"
   ]
  },
  {
   "cell_type": "code",
   "execution_count": 8,
   "metadata": {
    "pycharm": {
     "name": "#%%M\n"
    }
   },
   "outputs": [
    {
     "name": "stdout",
     "output_type": "stream",
     "text": [
      "Learning rate: 0.001\n"
     ]
    }
   ],
   "source": [
    "optimizer = adam_v2.Adam(learning_rate=LEARNING_RATE)\n",
    "print(\"Learning rate:\", LEARNING_RATE)\n",
    "\n",
    "# sparse as Y values are stored as integers (0-42), rather than one-hot encoded (i.e. 3 class, [1,0,0], [0,1,0], [0,0,1])\n",
    "loss = BinaryCrossentropy()\n",
    "\n",
    "model.compile(optimizer=optimizer, loss=loss, metrics=['accuracy'])"
   ]
  },
  {
   "cell_type": "code",
   "execution_count": null,
   "metadata": {
    "pycharm": {
     "name": "#%%\n"
    }
   },
   "outputs": [
    {
     "name": "stdout",
     "output_type": "stream",
     "text": [
      "Epoch 1/20\n",
      "163/163 [==============================] - 59s 359ms/step - loss: 0.5097 - accuracy: 0.8877 - val_loss: 0.4701 - val_accuracy: 0.8125\n",
      "Epoch 2/20\n",
      "129/163 [======================>.......] - ETA: 11s - loss: 0.1302 - accuracy: 0.9530"
     ]
    }
   ],
   "source": [
    "hist = model.fit(\n",
    "    x=train_ds,\n",
    "    epochs=NUM_EPOCHS,\n",
    "    verbose=True,\n",
    "    validation_data=val_ds)"
   ]
  },
  {
   "cell_type": "code",
   "execution_count": null,
   "metadata": {
    "pycharm": {
     "name": "#%%\n"
    }
   },
   "outputs": [],
   "source": [
    "plt.plot(hist.history['accuracy'])\n",
    "plt.plot(hist.history['val_accuracy'])\n",
    "plt.title(\"Model Accuracy\")\n",
    "plt.ylabel(\"Accuracy\")\n",
    "plt.xlabel(\"Epoch\")\n",
    "plt.legend([\"training\", \"validation\"])\n",
    "plt.show()"
   ]
  },
  {
   "cell_type": "code",
   "execution_count": null,
   "metadata": {
    "pycharm": {
     "name": "#%%\n"
    }
   },
   "outputs": [],
   "source": [
    "plt.plot(hist.history['loss'])\n",
    "plt.plot(hist.history['val_loss'])\n",
    "plt.title(\"Model Loss\")\n",
    "plt.ylabel(\"Loss\")\n",
    "plt.xlabel(\"Epoch\")\n",
    "plt.legend([\"training\", \"validation\"])\n",
    "plt.show()"
   ]
  },
  {
   "cell_type": "code",
   "execution_count": null,
   "metadata": {
    "pycharm": {
     "name": "#%%\n"
    }
   },
   "outputs": [],
   "source": [
    "preds = model.evaluate(test_ds, verbose = True)"
   ]
  },
  {
   "cell_type": "code",
   "execution_count": null,
   "metadata": {
    "pycharm": {
     "name": "#%%\n"
    }
   },
   "outputs": [],
   "source": [
    "#ROC\n",
    "\n",
    "fpr, tpr, _ = roc_curve(validation_generator.classes, preds)\n",
    "roc_auc = auc(fpr, tpr)\n",
    "plt.figure()\n",
    "lw = 2\n",
    "plt.plot(fpr, tpr, color='darkorange',\n",
    "         lw=lw, label='ROC curve (area = %0.2f)' % roc_auc)\n",
    "plt.plot([0, 1], [0, 1], color='navy', lw=lw, linestyle='--')\n",
    "plt.xlim([0.0, 1.0])\n",
    "plt.ylim([0.0, 1.05])\n",
    "plt.xlabel('False Positive Rate')\n",
    "plt.ylabel('True Positive Rate')\n",
    "plt.title('Receiver operating characteristic example')\n",
    "plt.legend(loc=\"lower right\")\n",
    "plt.show()"
   ]
  }
 ],
 "metadata": {
  "kernelspec": {
   "display_name": "Python 3 (ipykernel)",
   "language": "python",
   "name": "python3"
  },
  "language_info": {
   "codemirror_mode": {
    "name": "ipython",
    "version": 3
   },
   "file_extension": ".py",
   "mimetype": "text/x-python",
   "name": "python",
   "nbconvert_exporter": "python",
   "pygments_lexer": "ipython3",
   "version": "3.9.7"
  }
 },
 "nbformat": 4,
 "nbformat_minor": 1
}
